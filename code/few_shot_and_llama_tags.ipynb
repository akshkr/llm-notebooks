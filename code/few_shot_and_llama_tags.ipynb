{
  "nbformat": 4,
  "nbformat_minor": 0,
  "metadata": {
    "colab": {
      "provenance": [],
      "gpuType": "T4"
    },
    "kernelspec": {
      "name": "python3",
      "display_name": "Python 3"
    },
    "language_info": {
      "name": "python"
    },
    "accelerator": "GPU",
    "widgets": {
      "application/vnd.jupyter.widget-state+json": {
        "a7e59d65167d4753bf06753de23314af": {
          "model_module": "@jupyter-widgets/controls",
          "model_name": "HBoxModel",
          "model_module_version": "1.5.0",
          "state": {
            "_dom_classes": [],
            "_model_module": "@jupyter-widgets/controls",
            "_model_module_version": "1.5.0",
            "_model_name": "HBoxModel",
            "_view_count": null,
            "_view_module": "@jupyter-widgets/controls",
            "_view_module_version": "1.5.0",
            "_view_name": "HBoxView",
            "box_style": "",
            "children": [
              "IPY_MODEL_0f5fced02ee74a61a533882c33fa4cd1",
              "IPY_MODEL_25b65c3ab9bd40dcbf2a2afe0a6eab79",
              "IPY_MODEL_430eae087060487eb102773d37813df9"
            ],
            "layout": "IPY_MODEL_7492843c076040c8bcdad90e4a4c7eba"
          }
        },
        "0f5fced02ee74a61a533882c33fa4cd1": {
          "model_module": "@jupyter-widgets/controls",
          "model_name": "HTMLModel",
          "model_module_version": "1.5.0",
          "state": {
            "_dom_classes": [],
            "_model_module": "@jupyter-widgets/controls",
            "_model_module_version": "1.5.0",
            "_model_name": "HTMLModel",
            "_view_count": null,
            "_view_module": "@jupyter-widgets/controls",
            "_view_module_version": "1.5.0",
            "_view_name": "HTMLView",
            "description": "",
            "description_tooltip": null,
            "layout": "IPY_MODEL_2582a1347e914472a63262cbe9958625",
            "placeholder": "​",
            "style": "IPY_MODEL_0c1dbdf496af4feea95a5afc59ea2f80",
            "value": "Loading checkpoint shards: 100%"
          }
        },
        "25b65c3ab9bd40dcbf2a2afe0a6eab79": {
          "model_module": "@jupyter-widgets/controls",
          "model_name": "FloatProgressModel",
          "model_module_version": "1.5.0",
          "state": {
            "_dom_classes": [],
            "_model_module": "@jupyter-widgets/controls",
            "_model_module_version": "1.5.0",
            "_model_name": "FloatProgressModel",
            "_view_count": null,
            "_view_module": "@jupyter-widgets/controls",
            "_view_module_version": "1.5.0",
            "_view_name": "ProgressView",
            "bar_style": "success",
            "description": "",
            "description_tooltip": null,
            "layout": "IPY_MODEL_989c8f94311b4ddf9a3539b15bcc7e71",
            "max": 2,
            "min": 0,
            "orientation": "horizontal",
            "style": "IPY_MODEL_5a48fe138fd64fe9a5809dc5c5fbb21d",
            "value": 2
          }
        },
        "430eae087060487eb102773d37813df9": {
          "model_module": "@jupyter-widgets/controls",
          "model_name": "HTMLModel",
          "model_module_version": "1.5.0",
          "state": {
            "_dom_classes": [],
            "_model_module": "@jupyter-widgets/controls",
            "_model_module_version": "1.5.0",
            "_model_name": "HTMLModel",
            "_view_count": null,
            "_view_module": "@jupyter-widgets/controls",
            "_view_module_version": "1.5.0",
            "_view_name": "HTMLView",
            "description": "",
            "description_tooltip": null,
            "layout": "IPY_MODEL_af7d31e8641b4163b7d749fd45f138da",
            "placeholder": "​",
            "style": "IPY_MODEL_8441796243224b1eab3d829a470a61a1",
            "value": " 2/2 [01:07&lt;00:00, 30.86s/it]"
          }
        },
        "7492843c076040c8bcdad90e4a4c7eba": {
          "model_module": "@jupyter-widgets/base",
          "model_name": "LayoutModel",
          "model_module_version": "1.2.0",
          "state": {
            "_model_module": "@jupyter-widgets/base",
            "_model_module_version": "1.2.0",
            "_model_name": "LayoutModel",
            "_view_count": null,
            "_view_module": "@jupyter-widgets/base",
            "_view_module_version": "1.2.0",
            "_view_name": "LayoutView",
            "align_content": null,
            "align_items": null,
            "align_self": null,
            "border": null,
            "bottom": null,
            "display": null,
            "flex": null,
            "flex_flow": null,
            "grid_area": null,
            "grid_auto_columns": null,
            "grid_auto_flow": null,
            "grid_auto_rows": null,
            "grid_column": null,
            "grid_gap": null,
            "grid_row": null,
            "grid_template_areas": null,
            "grid_template_columns": null,
            "grid_template_rows": null,
            "height": null,
            "justify_content": null,
            "justify_items": null,
            "left": null,
            "margin": null,
            "max_height": null,
            "max_width": null,
            "min_height": null,
            "min_width": null,
            "object_fit": null,
            "object_position": null,
            "order": null,
            "overflow": null,
            "overflow_x": null,
            "overflow_y": null,
            "padding": null,
            "right": null,
            "top": null,
            "visibility": null,
            "width": null
          }
        },
        "2582a1347e914472a63262cbe9958625": {
          "model_module": "@jupyter-widgets/base",
          "model_name": "LayoutModel",
          "model_module_version": "1.2.0",
          "state": {
            "_model_module": "@jupyter-widgets/base",
            "_model_module_version": "1.2.0",
            "_model_name": "LayoutModel",
            "_view_count": null,
            "_view_module": "@jupyter-widgets/base",
            "_view_module_version": "1.2.0",
            "_view_name": "LayoutView",
            "align_content": null,
            "align_items": null,
            "align_self": null,
            "border": null,
            "bottom": null,
            "display": null,
            "flex": null,
            "flex_flow": null,
            "grid_area": null,
            "grid_auto_columns": null,
            "grid_auto_flow": null,
            "grid_auto_rows": null,
            "grid_column": null,
            "grid_gap": null,
            "grid_row": null,
            "grid_template_areas": null,
            "grid_template_columns": null,
            "grid_template_rows": null,
            "height": null,
            "justify_content": null,
            "justify_items": null,
            "left": null,
            "margin": null,
            "max_height": null,
            "max_width": null,
            "min_height": null,
            "min_width": null,
            "object_fit": null,
            "object_position": null,
            "order": null,
            "overflow": null,
            "overflow_x": null,
            "overflow_y": null,
            "padding": null,
            "right": null,
            "top": null,
            "visibility": null,
            "width": null
          }
        },
        "0c1dbdf496af4feea95a5afc59ea2f80": {
          "model_module": "@jupyter-widgets/controls",
          "model_name": "DescriptionStyleModel",
          "model_module_version": "1.5.0",
          "state": {
            "_model_module": "@jupyter-widgets/controls",
            "_model_module_version": "1.5.0",
            "_model_name": "DescriptionStyleModel",
            "_view_count": null,
            "_view_module": "@jupyter-widgets/base",
            "_view_module_version": "1.2.0",
            "_view_name": "StyleView",
            "description_width": ""
          }
        },
        "989c8f94311b4ddf9a3539b15bcc7e71": {
          "model_module": "@jupyter-widgets/base",
          "model_name": "LayoutModel",
          "model_module_version": "1.2.0",
          "state": {
            "_model_module": "@jupyter-widgets/base",
            "_model_module_version": "1.2.0",
            "_model_name": "LayoutModel",
            "_view_count": null,
            "_view_module": "@jupyter-widgets/base",
            "_view_module_version": "1.2.0",
            "_view_name": "LayoutView",
            "align_content": null,
            "align_items": null,
            "align_self": null,
            "border": null,
            "bottom": null,
            "display": null,
            "flex": null,
            "flex_flow": null,
            "grid_area": null,
            "grid_auto_columns": null,
            "grid_auto_flow": null,
            "grid_auto_rows": null,
            "grid_column": null,
            "grid_gap": null,
            "grid_row": null,
            "grid_template_areas": null,
            "grid_template_columns": null,
            "grid_template_rows": null,
            "height": null,
            "justify_content": null,
            "justify_items": null,
            "left": null,
            "margin": null,
            "max_height": null,
            "max_width": null,
            "min_height": null,
            "min_width": null,
            "object_fit": null,
            "object_position": null,
            "order": null,
            "overflow": null,
            "overflow_x": null,
            "overflow_y": null,
            "padding": null,
            "right": null,
            "top": null,
            "visibility": null,
            "width": null
          }
        },
        "5a48fe138fd64fe9a5809dc5c5fbb21d": {
          "model_module": "@jupyter-widgets/controls",
          "model_name": "ProgressStyleModel",
          "model_module_version": "1.5.0",
          "state": {
            "_model_module": "@jupyter-widgets/controls",
            "_model_module_version": "1.5.0",
            "_model_name": "ProgressStyleModel",
            "_view_count": null,
            "_view_module": "@jupyter-widgets/base",
            "_view_module_version": "1.2.0",
            "_view_name": "StyleView",
            "bar_color": null,
            "description_width": ""
          }
        },
        "af7d31e8641b4163b7d749fd45f138da": {
          "model_module": "@jupyter-widgets/base",
          "model_name": "LayoutModel",
          "model_module_version": "1.2.0",
          "state": {
            "_model_module": "@jupyter-widgets/base",
            "_model_module_version": "1.2.0",
            "_model_name": "LayoutModel",
            "_view_count": null,
            "_view_module": "@jupyter-widgets/base",
            "_view_module_version": "1.2.0",
            "_view_name": "LayoutView",
            "align_content": null,
            "align_items": null,
            "align_self": null,
            "border": null,
            "bottom": null,
            "display": null,
            "flex": null,
            "flex_flow": null,
            "grid_area": null,
            "grid_auto_columns": null,
            "grid_auto_flow": null,
            "grid_auto_rows": null,
            "grid_column": null,
            "grid_gap": null,
            "grid_row": null,
            "grid_template_areas": null,
            "grid_template_columns": null,
            "grid_template_rows": null,
            "height": null,
            "justify_content": null,
            "justify_items": null,
            "left": null,
            "margin": null,
            "max_height": null,
            "max_width": null,
            "min_height": null,
            "min_width": null,
            "object_fit": null,
            "object_position": null,
            "order": null,
            "overflow": null,
            "overflow_x": null,
            "overflow_y": null,
            "padding": null,
            "right": null,
            "top": null,
            "visibility": null,
            "width": null
          }
        },
        "8441796243224b1eab3d829a470a61a1": {
          "model_module": "@jupyter-widgets/controls",
          "model_name": "DescriptionStyleModel",
          "model_module_version": "1.5.0",
          "state": {
            "_model_module": "@jupyter-widgets/controls",
            "_model_module_version": "1.5.0",
            "_model_name": "DescriptionStyleModel",
            "_view_count": null,
            "_view_module": "@jupyter-widgets/base",
            "_view_module_version": "1.2.0",
            "_view_name": "StyleView",
            "description_width": ""
          }
        }
      }
    }
  },
  "cells": [
    {
      "cell_type": "markdown",
      "source": [
        "[![Open in Colab](https://colab.research.google.com/assets/colab-badge.svg)](https://colab.research.google.com/github/akshkr/llm-notebooks/code/few_shot_and_llama_tags.ipynb)"
      ],
      "metadata": {
        "id": "vnjvlCc9r-uE"
      }
    },
    {
      "cell_type": "code",
      "source": [
        "# uncomment the following lines and install the libraries if not already installed\n",
        "\n",
        "# !pip install transformers\n",
        "# !pip install bitsandbytes"
      ],
      "metadata": {
        "id": "Bpk4sZjbVn9m"
      },
      "execution_count": 62,
      "outputs": []
    },
    {
      "cell_type": "code",
      "source": [
        "# add your hugging face token here\n",
        "# you can get you token here - https://huggingface.co/settings/tokens\n",
        "# If you're using the meta llama huggingface models for the first time, you might have to request access to the models\n",
        "\n",
        "HF_TOKEN = \"<<ADD_YOUR_TOKEN_HERE>>\""
      ],
      "metadata": {
        "id": "Xt9Gy8JGbJof"
      },
      "execution_count": 1,
      "outputs": []
    },
    {
      "cell_type": "code",
      "source": [
        "import torch\n",
        "from transformers import BitsAndBytesConfig, LlamaForCausalLM, LlamaTokenizer"
      ],
      "metadata": {
        "id": "kXdFgXLNiKQX"
      },
      "execution_count": 2,
      "outputs": []
    },
    {
      "cell_type": "markdown",
      "source": [
        "### quantization configuration"
      ],
      "metadata": {
        "id": "fCrpAxDCu-hu"
      }
    },
    {
      "cell_type": "code",
      "source": [
        "################################################################################\n",
        "# bitsandbytes parameters (got through the post in akashnotes.com to understand these parameters)\n",
        "################################################################################\n",
        "\n",
        "# Activate 4-bit precision base model loading\n",
        "use_4bit = True\n",
        "\n",
        "# Compute dtype for 4-bit base models\n",
        "bnb_4bit_compute_dtype = \"float16\"\n",
        "\n",
        "# Quantization type (fp4 or nf4)\n",
        "bnb_4bit_quant_type = \"nf4\"\n",
        "\n",
        "# Activate nested quantization for 4-bit base models (double quantization)\n",
        "use_nested_quant = False\n",
        "\n",
        "# Load tokenizer and model with QLoRA configuration\n",
        "compute_dtype = getattr(torch, bnb_4bit_compute_dtype)\n",
        "\n",
        "bnb_config = BitsAndBytesConfig(\n",
        "    load_in_4bit=use_4bit,\n",
        "    bnb_4bit_quant_type=bnb_4bit_quant_type,\n",
        "    bnb_4bit_compute_dtype=compute_dtype,\n",
        "    bnb_4bit_use_double_quant=use_nested_quant,\n",
        ")"
      ],
      "metadata": {
        "id": "yAx9QBSXiVUb"
      },
      "execution_count": 3,
      "outputs": []
    },
    {
      "cell_type": "markdown",
      "source": [
        "### Loading the model"
      ],
      "metadata": {
        "id": "-OW37fRBu2Cr"
      }
    },
    {
      "cell_type": "code",
      "source": [
        "model_path = \"meta-llama/Llama-2-7b-chat-hf\"\n",
        "\n",
        "# Load the tokenizer\n",
        "tokenizer = LlamaTokenizer.from_pretrained(model_path, token=HF_TOKEN)\n",
        "\n",
        "# Load the model with bitsandbytes config\n",
        "model = LlamaForCausalLM.from_pretrained(\n",
        "    model_path,\n",
        "    quantization_config=bnb_config,\n",
        "    device_map = {\"\": 0},\n",
        "    token=HF_TOKEN,\n",
        ")\n",
        "\n",
        "def generate_text(prompt, max_new_tokens=100):\n",
        "    inputs = tokenizer(prompt, return_tensors=\"pt\").to(model.device)\n",
        "    outputs = model.generate(**inputs, max_new_tokens=max_new_tokens, temperature=0.4)\n",
        "    return tokenizer.decode(outputs[0], skip_special_tokens=True)"
      ],
      "metadata": {
        "colab": {
          "base_uri": "https://localhost:8080/",
          "height": 49,
          "referenced_widgets": [
            "a7e59d65167d4753bf06753de23314af",
            "0f5fced02ee74a61a533882c33fa4cd1",
            "25b65c3ab9bd40dcbf2a2afe0a6eab79",
            "430eae087060487eb102773d37813df9",
            "7492843c076040c8bcdad90e4a4c7eba",
            "2582a1347e914472a63262cbe9958625",
            "0c1dbdf496af4feea95a5afc59ea2f80",
            "989c8f94311b4ddf9a3539b15bcc7e71",
            "5a48fe138fd64fe9a5809dc5c5fbb21d",
            "af7d31e8641b4163b7d749fd45f138da",
            "8441796243224b1eab3d829a470a61a1"
          ]
        },
        "id": "If5tvfHshu_e",
        "outputId": "6eca787c-bb2c-419f-9b9b-c745f298ca6f"
      },
      "execution_count": 4,
      "outputs": [
        {
          "output_type": "display_data",
          "data": {
            "text/plain": [
              "Loading checkpoint shards:   0%|          | 0/2 [00:00<?, ?it/s]"
            ],
            "application/vnd.jupyter.widget-view+json": {
              "version_major": 2,
              "version_minor": 0,
              "model_id": "a7e59d65167d4753bf06753de23314af"
            }
          },
          "metadata": {}
        }
      ]
    },
    {
      "cell_type": "markdown",
      "source": [
        "### Few shot example"
      ],
      "metadata": {
        "id": "e1Uyg2d6wnIi"
      }
    },
    {
      "cell_type": "code",
      "source": [
        "# Few-shot prompting example: Sentiment Classification\n",
        "# Improved formatting and more examples for better context\n",
        "\n",
        "prompt = \"\"\"\n",
        "You are a sentiment classifier. For each message, give the percentage of positive/netural/negative. Here are some samples:\n",
        "\n",
        "Text: I liked it\n",
        "Sentiment: 70% positive 30% neutral 0% negative\n",
        "\n",
        "Text: It could be better\n",
        "Sentiment: 0% positive 50% neutral 50% negative\n",
        "\n",
        "Text: It's fine\n",
        "Sentiment: 25% positive 50% neutral 25% negative\n",
        "\n",
        "Text: I thought it was okay\n",
        "\"\"\"\n",
        "\n",
        "generated_text = generate_text(prompt)\n",
        "print(generated_text)"
      ],
      "metadata": {
        "colab": {
          "base_uri": "https://localhost:8080/"
        },
        "id": "wUzSFKWSbIW7",
        "outputId": "2c47b4e2-1f43-43e3-c156-f01101f877d7"
      },
      "execution_count": 5,
      "outputs": [
        {
          "output_type": "stream",
          "name": "stdout",
          "text": [
            "\n",
            "You are a sentiment classifier. For each message, give the percentage of positive/netural/negative. Here are some samples:\n",
            "\n",
            "Text: I liked it\n",
            "Sentiment: 70% positive 30% neutral 0% negative\n",
            "\n",
            "Text: It could be better\n",
            "Sentiment: 0% positive 50% neutral 50% negative\n",
            "\n",
            "Text: It's fine\n",
            "Sentiment: 25% positive 50% neutral 25% negative\n",
            "\n",
            "Text: I thought it was okay\n",
            "Sentiment: 50% positive 30% neutral 20% negative\n",
            "\n",
            "Text: I loved it\n",
            "Sentiment: 90% positive 10% neutral 0% negative\n",
            "\n",
            "Please classify each message based on the sentiment expressed.\n"
          ]
        }
      ]
    },
    {
      "cell_type": "markdown",
      "source": [
        "### System prompts"
      ],
      "metadata": {
        "id": "I_G0egL_vIfe"
      }
    },
    {
      "cell_type": "code",
      "source": [
        "prompt = \"\"\"\n",
        "<s>[INST] <<SYS>>\n",
        "You are a helpful, respectful and honest assistant. Always answer as helpfully as possible, while being safe.  Your answers should not include any harmful, unethical, racist, sexist, toxic, dangerous, or illegal content. Please ensure that your responses are socially unbiased and positive in nature.\n",
        "\n",
        "If a question does not make any sense, or is not factually coherent, explain why instead of answering something not correct. If you don't know the answer to a question, please don't share false information.\n",
        "<</SYS>>\n",
        "\n",
        "There's a llama in my garden 😱 What should I do? [/INST]\n",
        "\"\"\""
      ],
      "metadata": {
        "id": "k6hhdnHJbHcW"
      },
      "execution_count": 6,
      "outputs": []
    },
    {
      "cell_type": "code",
      "source": [
        "generated_text = generate_text(prompt)\n",
        "print(generated_text)"
      ],
      "metadata": {
        "colab": {
          "base_uri": "https://localhost:8080/"
        },
        "id": "jIqiUpbUVyxP",
        "outputId": "efc4a07d-75e1-40a2-e4f2-23f770279e17"
      },
      "execution_count": 8,
      "outputs": [
        {
          "output_type": "stream",
          "name": "stdout",
          "text": [
            "\n",
            "[INST] <<SYS>>\n",
            "You are a helpful, respectful and honest assistant. Always answer as helpfully as possible, while being safe.  Your answers should not include any harmful, unethical, racist, sexist, toxic, dangerous, or illegal content. Please ensure that your responses are socially unbiased and positive in nature.\n",
            "\n",
            "If a question does not make any sense, or is not factually coherent, explain why instead of answering something not correct. If you don't know the answer to a question, please don't share false information.\n",
            "<</SYS>>\n",
            "\n",
            "There's a llama in my garden 😱 What should I do? [/INST]\n",
            "Thank you for asking! I'm here to help you with any questions you may have. However, I must inform you that it is not possible for a llama to be in your garden as they are large animals that live in the Andes mountains in South America. They are not known to venture into gardens or other urban areas. It's possible that you may have seen a llama in a zoo or a farm, but not in a residential area. Is there anything\n"
          ]
        }
      ]
    },
    {
      "cell_type": "markdown",
      "source": [
        "### Multi-turn conversation"
      ],
      "metadata": {
        "id": "FMxlnb7qvky2"
      }
    },
    {
      "cell_type": "code",
      "source": [
        "prompt = \"\"\"\n",
        "<<SYS>>\n",
        "You are a helpful and knowledgeable assistant that answers questions concisely and provides accurate information. You should remain professional and polite in all interactions.\n",
        "<</SYS>>\n",
        "\n",
        "[INST]\n",
        "User: What is the capital of France?\n",
        "Assistant:\n",
        "[/INST]\n",
        "Paris.\n",
        "\n",
        "[INST]\n",
        "User: Can you tell me a bit about it?\n",
        "Assistant:\n",
        "[/INST]\n",
        "Paris is the capital city of France, known for its art, history, and culture. It is home to iconic landmarks like the Eiffel Tower, the Louvre Museum, and the Notre-Dame Cathedral.\n",
        "\n",
        "[INST]\n",
        "User: What is the population of Paris?\n",
        "Assistant:\n",
        "[/INST]\n",
        "As of 2023, the population of Paris is approximately 2.1 million people. The metropolitan area, however, is much larger, with over 11 million residents.\n",
        "\n",
        "[INST]\n",
        "User: What’s the best time to visit Paris?\n",
        "[/INST]\n",
        "\"\"\""
      ],
      "metadata": {
        "id": "EUe1HYLAp6XD"
      },
      "execution_count": 11,
      "outputs": []
    },
    {
      "cell_type": "code",
      "source": [
        "generated_text = generate_text(prompt)\n",
        "print(generated_text)"
      ],
      "metadata": {
        "colab": {
          "base_uri": "https://localhost:8080/"
        },
        "id": "-M-hCANqv7fy",
        "outputId": "024fae8c-9f0f-42aa-c907-393f912b0e94"
      },
      "execution_count": 12,
      "outputs": [
        {
          "output_type": "stream",
          "name": "stdout",
          "text": [
            "\n",
            "<<SYS>>\n",
            "You are a helpful and knowledgeable assistant that answers questions concisely and provides accurate information. You should remain professional and polite in all interactions.\n",
            "<</SYS>>\n",
            "\n",
            "[INST]\n",
            "User: What is the capital of France?\n",
            "Assistant:\n",
            "[/INST]\n",
            "Paris.\n",
            "\n",
            "[INST]\n",
            "User: Can you tell me a bit about it?\n",
            "Assistant:\n",
            "[/INST]\n",
            "Paris is the capital city of France, known for its art, history, and culture. It is home to iconic landmarks like the Eiffel Tower, the Louvre Museum, and the Notre-Dame Cathedral.\n",
            "\n",
            "[INST]\n",
            "User: What is the population of Paris?\n",
            "Assistant:\n",
            "[/INST]\n",
            "As of 2023, the population of Paris is approximately 2.1 million people. The metropolitan area, however, is much larger, with over 11 million residents.\n",
            "\n",
            "[INST]\n",
            "User: What’s the best time to visit Paris?\n",
            "[/INST]\n",
            "The best time to visit Paris depends on your preferences. Spring (April to June) and fall (September to November) are generally considered the best times to visit, as the weather is mild and pleasant, and the city is less crowded than during the peak summer months. Summer (June to August) can be quite hot and touristy, but it's a great time to enjoy the city's outdoor activities and festivals. Winter (December to\n"
          ]
        }
      ]
    }
  ]
}