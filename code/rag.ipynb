{
  "nbformat": 4,
  "nbformat_minor": 0,
  "metadata": {
    "colab": {
      "provenance": [],
      "gpuType": "T4"
    },
    "kernelspec": {
      "name": "python3",
      "display_name": "Python 3"
    },
    "language_info": {
      "name": "python"
    },
    "accelerator": "GPU",
    "widgets": {
      "application/vnd.jupyter.widget-state+json": {
        "eb863b851c5e42f09fcdbec31f425f8f": {
          "model_module": "@jupyter-widgets/controls",
          "model_name": "HBoxModel",
          "model_module_version": "1.5.0",
          "state": {
            "_dom_classes": [],
            "_model_module": "@jupyter-widgets/controls",
            "_model_module_version": "1.5.0",
            "_model_name": "HBoxModel",
            "_view_count": null,
            "_view_module": "@jupyter-widgets/controls",
            "_view_module_version": "1.5.0",
            "_view_name": "HBoxView",
            "box_style": "",
            "children": [
              "IPY_MODEL_227d8f92bf544ff78329e02d135aa8f2",
              "IPY_MODEL_b5adc063b97a472198188e90dd2f1241",
              "IPY_MODEL_63ed7ed719fc44f583d3ed5c1aa22834"
            ],
            "layout": "IPY_MODEL_1d1383f11d0f4f83828d00d97e6aed26"
          }
        },
        "227d8f92bf544ff78329e02d135aa8f2": {
          "model_module": "@jupyter-widgets/controls",
          "model_name": "HTMLModel",
          "model_module_version": "1.5.0",
          "state": {
            "_dom_classes": [],
            "_model_module": "@jupyter-widgets/controls",
            "_model_module_version": "1.5.0",
            "_model_name": "HTMLModel",
            "_view_count": null,
            "_view_module": "@jupyter-widgets/controls",
            "_view_module_version": "1.5.0",
            "_view_name": "HTMLView",
            "description": "",
            "description_tooltip": null,
            "layout": "IPY_MODEL_25923db7c5104a2da52207e313722544",
            "placeholder": "​",
            "style": "IPY_MODEL_2e0adf8e92a24a869274b4f160996fc6",
            "value": "Loading checkpoint shards: 100%"
          }
        },
        "b5adc063b97a472198188e90dd2f1241": {
          "model_module": "@jupyter-widgets/controls",
          "model_name": "FloatProgressModel",
          "model_module_version": "1.5.0",
          "state": {
            "_dom_classes": [],
            "_model_module": "@jupyter-widgets/controls",
            "_model_module_version": "1.5.0",
            "_model_name": "FloatProgressModel",
            "_view_count": null,
            "_view_module": "@jupyter-widgets/controls",
            "_view_module_version": "1.5.0",
            "_view_name": "ProgressView",
            "bar_style": "success",
            "description": "",
            "description_tooltip": null,
            "layout": "IPY_MODEL_cc39c563df6e4ce1a2e7ce866b686a91",
            "max": 2,
            "min": 0,
            "orientation": "horizontal",
            "style": "IPY_MODEL_b05a204bde524fc49dbd3664ca3100bb",
            "value": 2
          }
        },
        "63ed7ed719fc44f583d3ed5c1aa22834": {
          "model_module": "@jupyter-widgets/controls",
          "model_name": "HTMLModel",
          "model_module_version": "1.5.0",
          "state": {
            "_dom_classes": [],
            "_model_module": "@jupyter-widgets/controls",
            "_model_module_version": "1.5.0",
            "_model_name": "HTMLModel",
            "_view_count": null,
            "_view_module": "@jupyter-widgets/controls",
            "_view_module_version": "1.5.0",
            "_view_name": "HTMLView",
            "description": "",
            "description_tooltip": null,
            "layout": "IPY_MODEL_199622c376034e91afa5eb0857ba2ee6",
            "placeholder": "​",
            "style": "IPY_MODEL_33aa070e3181470a9f8e7a56f52ec75b",
            "value": " 2/2 [00:54&lt;00:00, 25.17s/it]"
          }
        },
        "1d1383f11d0f4f83828d00d97e6aed26": {
          "model_module": "@jupyter-widgets/base",
          "model_name": "LayoutModel",
          "model_module_version": "1.2.0",
          "state": {
            "_model_module": "@jupyter-widgets/base",
            "_model_module_version": "1.2.0",
            "_model_name": "LayoutModel",
            "_view_count": null,
            "_view_module": "@jupyter-widgets/base",
            "_view_module_version": "1.2.0",
            "_view_name": "LayoutView",
            "align_content": null,
            "align_items": null,
            "align_self": null,
            "border": null,
            "bottom": null,
            "display": null,
            "flex": null,
            "flex_flow": null,
            "grid_area": null,
            "grid_auto_columns": null,
            "grid_auto_flow": null,
            "grid_auto_rows": null,
            "grid_column": null,
            "grid_gap": null,
            "grid_row": null,
            "grid_template_areas": null,
            "grid_template_columns": null,
            "grid_template_rows": null,
            "height": null,
            "justify_content": null,
            "justify_items": null,
            "left": null,
            "margin": null,
            "max_height": null,
            "max_width": null,
            "min_height": null,
            "min_width": null,
            "object_fit": null,
            "object_position": null,
            "order": null,
            "overflow": null,
            "overflow_x": null,
            "overflow_y": null,
            "padding": null,
            "right": null,
            "top": null,
            "visibility": null,
            "width": null
          }
        },
        "25923db7c5104a2da52207e313722544": {
          "model_module": "@jupyter-widgets/base",
          "model_name": "LayoutModel",
          "model_module_version": "1.2.0",
          "state": {
            "_model_module": "@jupyter-widgets/base",
            "_model_module_version": "1.2.0",
            "_model_name": "LayoutModel",
            "_view_count": null,
            "_view_module": "@jupyter-widgets/base",
            "_view_module_version": "1.2.0",
            "_view_name": "LayoutView",
            "align_content": null,
            "align_items": null,
            "align_self": null,
            "border": null,
            "bottom": null,
            "display": null,
            "flex": null,
            "flex_flow": null,
            "grid_area": null,
            "grid_auto_columns": null,
            "grid_auto_flow": null,
            "grid_auto_rows": null,
            "grid_column": null,
            "grid_gap": null,
            "grid_row": null,
            "grid_template_areas": null,
            "grid_template_columns": null,
            "grid_template_rows": null,
            "height": null,
            "justify_content": null,
            "justify_items": null,
            "left": null,
            "margin": null,
            "max_height": null,
            "max_width": null,
            "min_height": null,
            "min_width": null,
            "object_fit": null,
            "object_position": null,
            "order": null,
            "overflow": null,
            "overflow_x": null,
            "overflow_y": null,
            "padding": null,
            "right": null,
            "top": null,
            "visibility": null,
            "width": null
          }
        },
        "2e0adf8e92a24a869274b4f160996fc6": {
          "model_module": "@jupyter-widgets/controls",
          "model_name": "DescriptionStyleModel",
          "model_module_version": "1.5.0",
          "state": {
            "_model_module": "@jupyter-widgets/controls",
            "_model_module_version": "1.5.0",
            "_model_name": "DescriptionStyleModel",
            "_view_count": null,
            "_view_module": "@jupyter-widgets/base",
            "_view_module_version": "1.2.0",
            "_view_name": "StyleView",
            "description_width": ""
          }
        },
        "cc39c563df6e4ce1a2e7ce866b686a91": {
          "model_module": "@jupyter-widgets/base",
          "model_name": "LayoutModel",
          "model_module_version": "1.2.0",
          "state": {
            "_model_module": "@jupyter-widgets/base",
            "_model_module_version": "1.2.0",
            "_model_name": "LayoutModel",
            "_view_count": null,
            "_view_module": "@jupyter-widgets/base",
            "_view_module_version": "1.2.0",
            "_view_name": "LayoutView",
            "align_content": null,
            "align_items": null,
            "align_self": null,
            "border": null,
            "bottom": null,
            "display": null,
            "flex": null,
            "flex_flow": null,
            "grid_area": null,
            "grid_auto_columns": null,
            "grid_auto_flow": null,
            "grid_auto_rows": null,
            "grid_column": null,
            "grid_gap": null,
            "grid_row": null,
            "grid_template_areas": null,
            "grid_template_columns": null,
            "grid_template_rows": null,
            "height": null,
            "justify_content": null,
            "justify_items": null,
            "left": null,
            "margin": null,
            "max_height": null,
            "max_width": null,
            "min_height": null,
            "min_width": null,
            "object_fit": null,
            "object_position": null,
            "order": null,
            "overflow": null,
            "overflow_x": null,
            "overflow_y": null,
            "padding": null,
            "right": null,
            "top": null,
            "visibility": null,
            "width": null
          }
        },
        "b05a204bde524fc49dbd3664ca3100bb": {
          "model_module": "@jupyter-widgets/controls",
          "model_name": "ProgressStyleModel",
          "model_module_version": "1.5.0",
          "state": {
            "_model_module": "@jupyter-widgets/controls",
            "_model_module_version": "1.5.0",
            "_model_name": "ProgressStyleModel",
            "_view_count": null,
            "_view_module": "@jupyter-widgets/base",
            "_view_module_version": "1.2.0",
            "_view_name": "StyleView",
            "bar_color": null,
            "description_width": ""
          }
        },
        "199622c376034e91afa5eb0857ba2ee6": {
          "model_module": "@jupyter-widgets/base",
          "model_name": "LayoutModel",
          "model_module_version": "1.2.0",
          "state": {
            "_model_module": "@jupyter-widgets/base",
            "_model_module_version": "1.2.0",
            "_model_name": "LayoutModel",
            "_view_count": null,
            "_view_module": "@jupyter-widgets/base",
            "_view_module_version": "1.2.0",
            "_view_name": "LayoutView",
            "align_content": null,
            "align_items": null,
            "align_self": null,
            "border": null,
            "bottom": null,
            "display": null,
            "flex": null,
            "flex_flow": null,
            "grid_area": null,
            "grid_auto_columns": null,
            "grid_auto_flow": null,
            "grid_auto_rows": null,
            "grid_column": null,
            "grid_gap": null,
            "grid_row": null,
            "grid_template_areas": null,
            "grid_template_columns": null,
            "grid_template_rows": null,
            "height": null,
            "justify_content": null,
            "justify_items": null,
            "left": null,
            "margin": null,
            "max_height": null,
            "max_width": null,
            "min_height": null,
            "min_width": null,
            "object_fit": null,
            "object_position": null,
            "order": null,
            "overflow": null,
            "overflow_x": null,
            "overflow_y": null,
            "padding": null,
            "right": null,
            "top": null,
            "visibility": null,
            "width": null
          }
        },
        "33aa070e3181470a9f8e7a56f52ec75b": {
          "model_module": "@jupyter-widgets/controls",
          "model_name": "DescriptionStyleModel",
          "model_module_version": "1.5.0",
          "state": {
            "_model_module": "@jupyter-widgets/controls",
            "_model_module_version": "1.5.0",
            "_model_name": "DescriptionStyleModel",
            "_view_count": null,
            "_view_module": "@jupyter-widgets/base",
            "_view_module_version": "1.2.0",
            "_view_name": "StyleView",
            "description_width": ""
          }
        }
      }
    }
  },
  "cells": [
    {
      "cell_type": "code",
      "source": [
        "# !pip install transformers\n",
        "# !pip install bitsandbytes"
      ],
      "metadata": {
        "id": "erm_0yB6E1eZ"
      },
      "execution_count": 1,
      "outputs": []
    },
    {
      "cell_type": "code",
      "source": [
        "from typing import List\n",
        "from transformers import LlamaForCausalLM, LlamaTokenizer, BitsAndBytesConfig\n",
        "from sentence_transformers import SentenceTransformer\n",
        "from sklearn.metrics.pairwise import cosine_similarity\n",
        "import numpy as np\n",
        "import torch"
      ],
      "metadata": {
        "id": "XIjd9LjmzqbA"
      },
      "execution_count": 2,
      "outputs": []
    },
    {
      "cell_type": "code",
      "source": [
        "HF_TOKEN = \"<your-hf-token>\"\n",
        "\n",
        "retriever_model = SentenceTransformer('all-MiniLM-L6-v2')\n",
        "llm_model_name = \"meta-llama/Llama-2-7b-chat-hf\"  # Replace with the desired local model\n",
        "\n",
        "use_4bit = True\n",
        "bnb_4bit_compute_dtype = \"float16\"\n",
        "bnb_4bit_quant_type = \"nf4\"\n",
        "use_nested_quant = False\n",
        "compute_dtype = getattr(torch, bnb_4bit_compute_dtype)\n",
        "bnb_config = BitsAndBytesConfig(\n",
        "    load_in_4bit=use_4bit,\n",
        "    bnb_4bit_quant_type=bnb_4bit_quant_type,\n",
        "    bnb_4bit_compute_dtype=compute_dtype,\n",
        "    bnb_4bit_use_double_quant=use_nested_quant,\n",
        ")\n",
        "\n",
        "\n",
        "llm_tokenizer = LlamaTokenizer.from_pretrained(llm_model_name, token=HF_TOKEN)\n",
        "llm_model = LlamaForCausalLM.from_pretrained(llm_model_name, device_map = {\"\": 0},token=HF_TOKEN, quantization_config=bnb_config)\n"
      ],
      "metadata": {
        "colab": {
          "base_uri": "https://localhost:8080/",
          "height": 176,
          "referenced_widgets": [
            "eb863b851c5e42f09fcdbec31f425f8f",
            "227d8f92bf544ff78329e02d135aa8f2",
            "b5adc063b97a472198188e90dd2f1241",
            "63ed7ed719fc44f583d3ed5c1aa22834",
            "1d1383f11d0f4f83828d00d97e6aed26",
            "25923db7c5104a2da52207e313722544",
            "2e0adf8e92a24a869274b4f160996fc6",
            "cc39c563df6e4ce1a2e7ce866b686a91",
            "b05a204bde524fc49dbd3664ca3100bb",
            "199622c376034e91afa5eb0857ba2ee6",
            "33aa070e3181470a9f8e7a56f52ec75b"
          ]
        },
        "id": "LdrISGx65KKR",
        "outputId": "6d9febfc-3ee3-4417-9322-e2cf3682ec51"
      },
      "execution_count": 3,
      "outputs": [
        {
          "output_type": "stream",
          "name": "stderr",
          "text": [
            "/usr/local/lib/python3.10/dist-packages/huggingface_hub/utils/_auth.py:94: UserWarning: \n",
            "The secret `HF_TOKEN` does not exist in your Colab secrets.\n",
            "To authenticate with the Hugging Face Hub, create a token in your settings tab (https://huggingface.co/settings/tokens), set it as secret in your Google Colab and restart your session.\n",
            "You will be able to reuse this secret in all of your notebooks.\n",
            "Please note that authentication is recommended but still optional to access public models or datasets.\n",
            "  warnings.warn(\n"
          ]
        },
        {
          "output_type": "display_data",
          "data": {
            "text/plain": [
              "Loading checkpoint shards:   0%|          | 0/2 [00:00<?, ?it/s]"
            ],
            "application/vnd.jupyter.widget-view+json": {
              "version_major": 2,
              "version_minor": 0,
              "model_id": "eb863b851c5e42f09fcdbec31f425f8f"
            }
          },
          "metadata": {}
        }
      ]
    },
    {
      "cell_type": "code",
      "source": [
        "# Example knowledge base\n",
        "documents = [\n",
        "    \"Lila: Lila spent years crafting the perfect sculpture, but when she finally finished, it stood as a silent reminder of the dreams she had abandoned. In the end, she realized the real art was in the journey, not the finished piece.\",\n",
        "    \"Ethan: Ethan was always the skeptic, questioning everything, until one day, he stumbled upon a mystery that could not be explained. For the first time, he felt the thrill of believing in something beyond reason.\",\n",
        "    \"Zara: Zara had always dreamed of adventure, and when the opportunity finally came, she found herself in the middle of a city she could never have imagined. But as the days passed, the unfamiliarity began to feel like home.\",\n",
        "    \"Noah: Noah's heart longed for peace, yet his restless mind led him to constantly chase after new challenges. One quiet afternoon, he sat still and realized that peace had always been within him, waiting to be discovered.\"\n",
        "]\n",
        "\n",
        "# Encode the documents into embeddings\n",
        "doc_embeddings = retriever_model.encode(documents)\n",
        "\n",
        "# Function to retrieve relevant documents based on query\n",
        "def retrieve(query: str, top_k: int = 1) -> List[str]:\n",
        "    query_embedding = retriever_model.encode([query])\n",
        "    similarities = cosine_similarity(query_embedding, doc_embeddings)\n",
        "    top_indices = np.argsort(similarities[0])[::-1][:top_k]\n",
        "    return [documents[i] for i in top_indices]\n"
      ],
      "metadata": {
        "id": "2kN5wlyBCFUe"
      },
      "execution_count": 4,
      "outputs": []
    },
    {
      "cell_type": "code",
      "source": [
        "# Function to generate a response using local AutoModel\n",
        "def generate(query: str, context: List[str]) -> str:\n",
        "    prompt = \"\"\"\n",
        "    Context:\n",
        "    {context}\n",
        "    Using the context above answer the following question. Do not add anything else.\n",
        "    Question: {query}\n",
        "    Answer:\n",
        "    \"\"\".format(context=\"\\n\".join(context), query=query)\n",
        "\n",
        "    inputs = llm_tokenizer(prompt, return_tensors=\"pt\").to(llm_model.device)\n",
        "    outputs = llm_model.generate(**inputs, max_length=200, num_return_sequences=1)\n",
        "    return llm_tokenizer.decode(outputs[0], skip_special_tokens=True)\n"
      ],
      "metadata": {
        "id": "hXca_C0lF-NG"
      },
      "execution_count": 5,
      "outputs": []
    },
    {
      "cell_type": "code",
      "source": [
        "\n",
        "# Main function to combine retrieval and generation\n",
        "def rag_pipeline(query: str, top_k: int = 1):\n",
        "    retrieved_docs = retrieve(query, top_k)\n",
        "    response = generate(query, retrieved_docs)\n",
        "    return response\n",
        "\n",
        "user_query = \"Tell me something about Ethan's life in 20 words?\"\n",
        "answer = rag_pipeline(user_query)\n",
        "print(\"Query:\", user_query)\n",
        "print(\"Answer:\", answer)"
      ],
      "metadata": {
        "colab": {
          "base_uri": "https://localhost:8080/"
        },
        "id": "WQ49z3NNJepv",
        "outputId": "af2ed956-d43d-4e49-f346-4593d8aedaf1"
      },
      "execution_count": 6,
      "outputs": [
        {
          "output_type": "stream",
          "name": "stdout",
          "text": [
            "Query: Tell me something about Ethan's life in 20 words?\n",
            "Answer: \n",
            "    Context:\n",
            "    Ethan: Ethan was always the skeptic, questioning everything, until one day, he stumbled upon a mystery that could not be explained. For the first time, he felt the thrill of believing in something beyond reason.\n",
            "    Using the context above answer the following question. Do not add anything else.\n",
            "    Question: Tell me something about Ethan's life in 20 words?\n",
            "    Answer:\n",
            "     Ethan was a logical, analytical thinker until he encountered an unsolvable mystery that awakened his curiosity.\n"
          ]
        }
      ]
    }
  ]
}